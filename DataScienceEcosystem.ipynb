{
 "cells": [
  {
   "cell_type": "markdown",
   "id": "3a497bed-b8c1-4596-a73c-c09934fc6e92",
   "metadata": {},
   "source": [
    "# Data Science Tools and Ecosystem"
   ]
  },
  {
   "cell_type": "markdown",
   "id": "f5f27c5a-ddd0-491a-a914-86cdb7fe29de",
   "metadata": {},
   "source": [
    "In this notebook, Data Science Tools and Ecosystem are summarized."
   ]
  },
  {
   "cell_type": "markdown",
   "id": "0aed3e50-4b58-442d-b993-e47ad6959d31",
   "metadata": {},
   "source": [
    "Some of the popular languages that Data Scientists use are:\n",
    "1. Python\n",
    "2. R\n",
    "3. Julia\n",
    "4. C++\n",
    "5. Java"
   ]
  },
  {
   "cell_type": "markdown",
   "id": "b4482251-85e9-490b-b58f-3a1e31b93dc1",
   "metadata": {},
   "source": [
    "Some of the commonly used libraries used by Data Scientists include:\n",
    "1. Pandas\n",
    "2. Scikit-learn\n",
    "3. Matplotlib\n",
    "4. Pytorch"
   ]
  },
  {
   "cell_type": "markdown",
   "id": "a0ff4cd5-59eb-451c-ad0e-bb8305b308ca",
   "metadata": {},
   "source": [
    "|Data Science|\n",
    "|------------|\n",
    "|JupyterLabs|\n",
    "|JupyterLite|\n",
    "|Google Colaboratory|\n",
    "|VS Code|"
   ]
  },
  {
   "cell_type": "markdown",
   "id": "a50c7f8b-6012-4066-975b-280be0bcbf0f",
   "metadata": {},
   "source": [
    "### Below are a few examples of evaluating arithmetic expressions in Python"
   ]
  },
  {
   "cell_type": "code",
   "execution_count": 1,
   "id": "f9220caf-b8aa-4631-a3cf-4662da0ea537",
   "metadata": {
    "tags": []
   },
   "outputs": [
    {
     "data": {
      "text/plain": [
       "17"
      ]
     },
     "execution_count": 1,
     "metadata": {},
     "output_type": "execute_result"
    }
   ],
   "source": [
    "(3*4)+5"
   ]
  },
  {
   "cell_type": "code",
   "execution_count": 2,
   "id": "d3ec860b-2ebb-40e0-8ca1-40ecc1aee9c6",
   "metadata": {
    "tags": []
   },
   "outputs": [
    {
     "data": {
      "text/plain": [
       "3.3333333333333335"
      ]
     },
     "execution_count": 2,
     "metadata": {},
     "output_type": "execute_result"
    }
   ],
   "source": [
    "# This will convert 200 minutes into hours by div(id)ing by 60\n",
    "200/60"
   ]
  },
  {
   "cell_type": "markdown",
   "id": "2f28c054-9039-44c6-857f-7b2bcd67ebcd",
   "metadata": {},
   "source": [
    "Objectives:\n",
    "- List commonly used languages for Data Science\n",
    "- List popular libraries used in Data Science\n",
    "- Create code for simple arithmetic expressions"
   ]
  },
  {
   "cell_type": "markdown",
   "id": "cb4f21bf-f578-4470-96c3-ade261c0215d",
   "metadata": {},
   "source": [
    "## Author\n",
    "David C Johnson"
   ]
  },
  {
   "cell_type": "code",
   "execution_count": null,
   "id": "d87d0390-e770-4de7-b306-c87198087d69",
   "metadata": {},
   "outputs": [],
   "source": []
  }
 ],
 "metadata": {
  "kernelspec": {
   "display_name": "Python",
   "language": "python",
   "name": "conda-env-python-py"
  },
  "language_info": {
   "codemirror_mode": {
    "name": "ipython",
    "version": 3
   },
   "file_extension": ".py",
   "mimetype": "text/x-python",
   "name": "python",
   "nbconvert_exporter": "python",
   "pygments_lexer": "ipython3",
   "version": "3.7.12"
  }
 },
 "nbformat": 4,
 "nbformat_minor": 5
}
